{
  "cells": [
    {
      "cell_type": "markdown",
      "metadata": {
        "id": "o1RllGkJuYvd"
      },
      "source": [
        "**Xperiments6_Worriers-Code-2022**\n",
        "\n"
      ]
    },
    {
      "cell_type": "code",
      "execution_count": null,
      "metadata": {
        "id": "FVFtXBlQucH6"
      },
      "outputs": [
        {
          "ename": "",
          "evalue": "",
          "output_type": "error",
          "traceback": [
            "\u001b[1;31mRunning cells with 'test' requires the ipykernel package.\n",
            "\u001b[1;31mRun the following command to install 'ipykernel' into the Python environment. \n",
            "\u001b[1;31mCommand: 'c:/Users/hp/Envs/test/Scripts/python.exe -m pip install ipykernel -U --force-reinstall'"
          ]
        }
      ],
      "source": [
        "import numpy as np\n",
        "\n",
        "import nltk #library for NLP\n",
        "\n",
        "import string\n",
        "\n",
        "import random\n",
        "\n",
        "import pandas as pd"
      ]
    },
    {
      "cell_type": "markdown",
      "metadata": {
        "id": "59us-qwmUGRW"
      },
      "source": [
        "**IMPORTING AND READING THE CORPUS**"
      ]
    },
    {
      "cell_type": "code",
      "execution_count": 4,
      "metadata": {
        "colab": {
          "base_uri": "https://localhost:8080/",
          "height": 0
        },
        "id": "6AfACdwvpFLI",
        "outputId": "89cf50b4-ae2c-4123-c19d-3087143718f8"
      },
      "outputs": [
        {
          "name": "stderr",
          "output_type": "stream",
          "text": [
            "[nltk_data] Downloading package punkt to /root/nltk_data...\n",
            "[nltk_data]   Unzipping tokenizers/punkt.zip.\n",
            "[nltk_data] Downloading package wordnet to /root/nltk_data...\n"
          ]
        }
      ],
      "source": [
        "f=open('/content/chatBot.txt', 'r', errors = 'ignore') \n",
        "raw_doc=f.read()\n",
        "raw_doc=raw_doc.lower() #Converts text to lowercase \n",
        "nltk.download('punkt') #Using the Punkt tokenizer\n",
        "nltk.download('wordnet') #Using the WordNet dictionary\n",
        "\n",
        "sent_tokens =nltk.sent_tokenize (raw_doc) #Converts doc to list of sentences \n",
        "word_tokens = nltk.word_tokenize (raw_doc) #Converts doc to list of words"
      ]
    },
    {
      "cell_type": "code",
      "execution_count": 5,
      "metadata": {
        "colab": {
          "base_uri": "https://localhost:8080/",
          "height": 0
        },
        "id": "gQJ4ERkErnBL",
        "outputId": "f873516f-aaa3-4ec5-bfe7-11b4f23ec1cb"
      },
      "outputs": [
        {
          "data": {
            "text/plain": [
              "['data science\\nfrom wikipedia, the free encyclopedia\\n(redirected from data science)\\njump to navigationjump to search\\nnot to be confused with information science.',\n",
              " 'the existence of comet neowise (here depicted as a series of red dots) was discovered by analyzing astronomical survey data acquired by a space telescope, the wide-field infrared survey explorer.']"
            ]
          },
          "execution_count": 5,
          "metadata": {},
          "output_type": "execute_result"
        }
      ],
      "source": [
        "sent_tokens[:2]"
      ]
    },
    {
      "cell_type": "code",
      "execution_count": 6,
      "metadata": {
        "colab": {
          "base_uri": "https://localhost:8080/",
          "height": 0
        },
        "id": "8-K-T9a_rxOy",
        "outputId": "e5c55fa9-2b92-4b12-cad7-8ca37f863a33"
      },
      "outputs": [
        {
          "data": {
            "text/plain": [
              "['data', 'science']"
            ]
          },
          "execution_count": 6,
          "metadata": {},
          "output_type": "execute_result"
        }
      ],
      "source": [
        "word_tokens[:2]"
      ]
    },
    {
      "cell_type": "markdown",
      "metadata": {
        "id": "KXUrNvRqolJl"
      },
      "source": [
        "**TEXT PREPROCESSING**"
      ]
    },
    {
      "cell_type": "code",
      "execution_count": 7,
      "metadata": {
        "id": "MJv_andesL9Z"
      },
      "outputs": [],
      "source": [
        "lemmer = nltk.stem.WordNetLemmatizer()\n",
        "\n",
        "#WordNet is a semantically-oriented dictionary of English included in NLTK.\n",
        "def LemTokens (tokens):\n",
        "\n",
        "    return [lemmer.lemmatize (token) for token in tokens]\n",
        "\n",
        "remove_punct_dict = dict((ord (punct), None) for punct in string.punctuation)\n",
        "\n",
        "def LemNormalize(text):\n",
        "\n",
        "    return LemTokens (nltk.word_tokenize (text.lower().translate (remove_punct_dict)))"
      ]
    },
    {
      "cell_type": "markdown",
      "metadata": {
        "id": "gXT48iRhpBcI"
      },
      "source": [
        "**DEFINING THE GREETING FUNCTION**"
      ]
    },
    {
      "cell_type": "code",
      "execution_count": 8,
      "metadata": {
        "id": "cySsdBRJswGr"
      },
      "outputs": [],
      "source": [
        "GREET_INPUTS = (\"hello\", \"hi\", \"greetings\", \"sup\", \"what's up\", \"hey\",) \n",
        "GREET_RESPONSES = [\"hi\", \"hey\", \"nods\", \"hi there\", \"hello\", \"I am glad! You are talking to me\"] \n",
        "def greet (sentence):\n",
        "\n",
        "       for word in sentence.split():\n",
        "\n",
        "            if word. lower() in GREET_INPUTS: \n",
        "              return random.choice (GREET_RESPONSES)  "
      ]
    },
    {
      "cell_type": "markdown",
      "metadata": {
        "id": "pCgx-R3LpZwF"
      },
      "source": [
        "**RESPONSE GENERATION**"
      ]
    },
    {
      "cell_type": "code",
      "execution_count": 9,
      "metadata": {
        "id": "LuOv4mEtpN4g"
      },
      "outputs": [],
      "source": [
        "from sklearn.feature_extraction.text import TfidfVectorizer \n",
        "\n",
        "#how many time each ivdiv word repeat i.e freq of occurance\n",
        "from sklearn.metrics.pairwise import cosine_similarity "
      ]
    },
    {
      "cell_type": "code",
      "execution_count": 10,
      "metadata": {
        "id": "kX5KZkgZ5Lgg"
      },
      "outputs": [],
      "source": [
        "def response(user_response):\n",
        "  rebol_response=''\n",
        "  TfidfVec = TfidfVectorizer(tokenizer=LemNormalize, stop_words='english')\n",
        "  tfidf = TfidfVec.fit_transform(sent_tokens)\n",
        "  vals = cosine_similarity(tfidf[-1],tfidf)\n",
        "  idx=vals.argsort()[0][-2]\n",
        "  flat=vals.flattern()\n",
        "  flat.sort()\n",
        "  req_tfidf = flat[-2]\n",
        "  if(req_tfidf==0):\n",
        "    robol_response=robol_response+\"I am sorry! I dont understand you\"\n",
        "    return robol_response\n",
        "  else:\n",
        "      robol_response= robol_response+sent_tokens[idx]\n",
        "\n",
        "      return robol_response"
      ]
    },
    {
      "cell_type": "markdown",
      "metadata": {
        "id": "BAyg27e_YCsZ"
      },
      "source": [
        "DEFINING CONVERSATION START/END PROTOCOLS"
      ]
    },
    {
      "cell_type": "code",
      "execution_count": 11,
      "metadata": {
        "colab": {
          "base_uri": "https://localhost:8080/",
          "height": 0
        },
        "id": "-tycUwVzYKC0",
        "outputId": "67b1c0e9-8eac-4775-b02b-9769fc130796"
      },
      "outputs": [
        {
          "name": "stdout",
          "output_type": "stream",
          "text": [
            "Bot: My name is Medico. Lets have a conversation! Also, if you want to exit any time, just type Bye!\n",
            "Bye\n",
            "BOT: Goodbye! Take care <3\n"
          ]
        }
      ],
      "source": [
        "flag=True\n",
        "print(\"Bot: My name is Medico. Lets have a conversation! Also, if you want to exit any time, just type Bye!\")\n",
        "while(flag==True):\n",
        "  user_response = input()\n",
        "  user_response=user_response.lower()\n",
        "  if(user_response!= 'bye'):\n",
        "    if(user_response=='thanks'or user_response=='thank you'):\n",
        "      flag==False\n",
        "      print(\"BOT: You are welcome..\")\n",
        "    else:\n",
        "     if(greet(user_response)!=None):\n",
        "      print(\"BOT:\"+greet(user_response))\n",
        "     else:\n",
        "                  sent_tokens.append(user_response)\n",
        "                  word_tokens=word_tokens+nltk.word_tokenize(user_response)\n",
        "                  final_words=list(set(word_tokens))\n",
        "                  print(\"BOT:\",end=\"\")\n",
        "                  print(response(user_response))\n",
        "                  sent_tokens.remove(user_response)\n",
        "  else:\n",
        "                    flag=False\n",
        "                    print(\"BOT: Goodbye! Take care <3\")\n"
      ]
    }
  ],
  "metadata": {
    "colab": {
      "collapsed_sections": [],
      "provenance": []
    },
    "kernelspec": {
      "display_name": "test",
      "language": "python",
      "name": "python3"
    },
    "language_info": {
      "name": "python",
      "version": "3.12.0"
    },
    "vscode": {
      "interpreter": {
        "hash": "5575b6328afbc8a6e7f9ca73e03110dcb22b26c8887a677b3ef0fce73b2212fc"
      }
    }
  },
  "nbformat": 4,
  "nbformat_minor": 0
}
