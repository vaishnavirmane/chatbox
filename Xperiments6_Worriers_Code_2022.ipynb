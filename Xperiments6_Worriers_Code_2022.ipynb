{
  "nbformat": 4,
  "nbformat_minor": 0,
  "metadata": {
    "colab": {
      "provenance": [],
      "collapsed_sections": []
    },
    "kernelspec": {
      "name": "python3",
      "display_name": "Python 3"
    },
    "language_info": {
      "name": "python"
    }
  },
  "cells": [
    {
      "cell_type": "markdown",
      "source": [
        "**Xperiments6_Worriers-Code-2022**\n",
        "\n"
      ],
      "metadata": {
        "id": "o1RllGkJuYvd"
      }
    },
    {
      "cell_type": "code",
      "source": [
        "import numpy as np\n",
        "\n",
        "import nltk #library for NLP\n",
        "\n",
        "import string\n",
        "\n",
        "import random"
      ],
      "metadata": {
        "id": "FVFtXBlQucH6"
      },
      "execution_count": 12,
      "outputs": []
    },
    {
      "cell_type": "markdown",
      "source": [
        "**IMPORTING AND READING THE CORPUS**"
      ],
      "metadata": {
        "id": "59us-qwmUGRW"
      }
    },
    {
      "cell_type": "code",
      "source": [
        "f=open('/content/chatBot.txt', 'r', errors = 'ignore') \n",
        "raw_doc=f.read()\n",
        "raw_doc=raw_doc.lower() #Converts text to lowercase \n",
        "nltk.download('punkt') #Using the Punkt tokenizer\n",
        "nltk.download('wordnet') #Using the WordNet dictionary\n",
        "\n",
        "sent_tokens =nltk.sent_tokenize (raw_doc) #Converts doc to list of sentences \n",
        "word_tokens = nltk.word_tokenize (raw_doc) #Converts doc to list of words"
      ],
      "metadata": {
        "colab": {
          "base_uri": "https://localhost:8080/",
          "height": 0
        },
        "id": "6AfACdwvpFLI",
        "outputId": "89cf50b4-ae2c-4123-c19d-3087143718f8"
      },
      "execution_count": 4,
      "outputs": [
        {
          "output_type": "stream",
          "name": "stderr",
          "text": [
            "[nltk_data] Downloading package punkt to /root/nltk_data...\n",
            "[nltk_data]   Unzipping tokenizers/punkt.zip.\n",
            "[nltk_data] Downloading package wordnet to /root/nltk_data...\n"
          ]
        }
      ]
    },
    {
      "cell_type": "code",
      "source": [
        "sent_tokens[:2]"
      ],
      "metadata": {
        "colab": {
          "base_uri": "https://localhost:8080/",
          "height": 0
        },
        "id": "gQJ4ERkErnBL",
        "outputId": "f873516f-aaa3-4ec5-bfe7-11b4f23ec1cb"
      },
      "execution_count": 5,
      "outputs": [
        {
          "output_type": "execute_result",
          "data": {
            "text/plain": [
              "['data science\\nfrom wikipedia, the free encyclopedia\\n(redirected from data science)\\njump to navigationjump to search\\nnot to be confused with information science.',\n",
              " 'the existence of comet neowise (here depicted as a series of red dots) was discovered by analyzing astronomical survey data acquired by a space telescope, the wide-field infrared survey explorer.']"
            ]
          },
          "metadata": {},
          "execution_count": 5
        }
      ]
    },
    {
      "cell_type": "code",
      "source": [
        "word_tokens[:2]"
      ],
      "metadata": {
        "colab": {
          "base_uri": "https://localhost:8080/",
          "height": 0
        },
        "id": "8-K-T9a_rxOy",
        "outputId": "e5c55fa9-2b92-4b12-cad7-8ca37f863a33"
      },
      "execution_count": 6,
      "outputs": [
        {
          "output_type": "execute_result",
          "data": {
            "text/plain": [
              "['data', 'science']"
            ]
          },
          "metadata": {},
          "execution_count": 6
        }
      ]
    },
    {
      "cell_type": "markdown",
      "source": [
        "**TEXT PREPROCESSING**"
      ],
      "metadata": {
        "id": "KXUrNvRqolJl"
      }
    },
    {
      "cell_type": "code",
      "source": [
        "lemmer = nltk.stem.WordNetLemmatizer()\n",
        "\n",
        "#WordNet is a semantically-oriented dictionary of English included in NLTK.\n",
        "def LemTokens (tokens):\n",
        "\n",
        "    return [lemmer.lemmatize (token) for token in tokens]\n",
        "\n",
        "remove_punct_dict = dict((ord (punct), None) for punct in string.punctuation)\n",
        "\n",
        "def LemNormalize(text):\n",
        "\n",
        "    return LemTokens (nltk.word_tokenize (text.lower().translate (remove_punct_dict)))"
      ],
      "metadata": {
        "id": "MJv_andesL9Z"
      },
      "execution_count": 7,
      "outputs": []
    },
    {
      "cell_type": "markdown",
      "source": [
        "**DEFINING THE GREETING FUNCTION**"
      ],
      "metadata": {
        "id": "gXT48iRhpBcI"
      }
    },
    {
      "cell_type": "code",
      "source": [
        "GREET_INPUTS = (\"hello\", \"hi\", \"greetings\", \"sup\", \"what's up\", \"hey\",) \n",
        "GREET_RESPONSES = [\"hi\", \"hey\", \"nods\", \"hi there\", \"hello\", \"I am glad! You are talking to me\"] \n",
        "def greet (sentence):\n",
        "\n",
        "       for word in sentence.split():\n",
        "\n",
        "            if word. lower() in GREET_INPUTS: \n",
        "              return random.choice (GREET_RESPONSES)  "
      ],
      "metadata": {
        "id": "cySsdBRJswGr"
      },
      "execution_count": 8,
      "outputs": []
    },
    {
      "cell_type": "markdown",
      "source": [
        "**RESPONSE GENERATION**"
      ],
      "metadata": {
        "id": "pCgx-R3LpZwF"
      }
    },
    {
      "cell_type": "code",
      "source": [
        "from sklearn.feature_extraction.text import TfidfVectorizer \n",
        "\n",
        "#how many time each ivdiv word repeat i.e freq of occurance\n",
        "from sklearn.metrics.pairwise import cosine_similarity "
      ],
      "metadata": {
        "id": "LuOv4mEtpN4g"
      },
      "execution_count": 9,
      "outputs": []
    },
    {
      "cell_type": "code",
      "source": [
        "def response(user_response):\n",
        "  rebol_response=''\n",
        "  TfidfVec = TfidfVectorizer(tokenizer=LemNormalize, stop_words='english')\n",
        "  tfidf = TfidfVec.fit_transform(sent_tokens)\n",
        "  vals = cosine_similarity(tfidf[-1],tfidf)\n",
        "  idx=vals.argsort()[0][-2]\n",
        "  flat=vals.flattern()\n",
        "  flat.sort()\n",
        "  req_tfidf = flat[-2]\n",
        "  if(req_tfidf==0):\n",
        "    robol_response=robol_response+\"I am sorry! I dont understand you\"\n",
        "    return robol_response\n",
        "  else:\n",
        "      robol_response= robol_response+sent_tokens[idx]\n",
        "\n",
        "      return robol_response"
      ],
      "metadata": {
        "id": "kX5KZkgZ5Lgg"
      },
      "execution_count": 10,
      "outputs": []
    },
    {
      "cell_type": "markdown",
      "source": [
        "DEFINING CONVERSATION START/END PROTOCOLS"
      ],
      "metadata": {
        "id": "BAyg27e_YCsZ"
      }
    },
    {
      "cell_type": "code",
      "source": [
        "flag=True\n",
        "print(\"Bot: My name is Medico. Lets have a conversation! Also, if you want to exit any time, just type Bye!\")\n",
        "while(flag==True):\n",
        "  user_response = input()\n",
        "  user_response=user_response.lower()\n",
        "  if(user_response!= 'bye'):\n",
        "    if(user_response=='thanks'or user_response=='thank you'):\n",
        "      flag==False\n",
        "      print(\"BOT: You are welcome..\")\n",
        "    else:\n",
        "     if(greet(user_response)!=None):\n",
        "      print(\"BOT:\"+greet(user_response))\n",
        "     else:\n",
        "                  sent_tokens.append(user_response)\n",
        "                  word_tokens=word_tokens+nltk.word_tokenize(user_response)\n",
        "                  final_words=list(set(word_tokens))\n",
        "                  print(\"BOT:\",end=\"\")\n",
        "                  print(response(user_response))\n",
        "                  sent_tokens.remove(user_response)\n",
        "  else:\n",
        "                    flag=False\n",
        "                    print(\"BOT: Goodbye! Take care <3\")\n"
      ],
      "metadata": {
        "colab": {
          "base_uri": "https://localhost:8080/",
          "height": 0
        },
        "id": "-tycUwVzYKC0",
        "outputId": "67b1c0e9-8eac-4775-b02b-9769fc130796"
      },
      "execution_count": 11,
      "outputs": [
        {
          "output_type": "stream",
          "name": "stdout",
          "text": [
            "Bot: My name is Medico. Lets have a conversation! Also, if you want to exit any time, just type Bye!\n",
            "Bye\n",
            "BOT: Goodbye! Take care <3\n"
          ]
        }
      ]
    }
  ]
}